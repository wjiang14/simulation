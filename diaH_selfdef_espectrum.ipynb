{
 "cells": [
  {
   "cell_type": "code",
   "execution_count": 1,
   "metadata": {
    "collapsed": false
   },
   "outputs": [],
   "source": [
    "import sys\n",
    "sys.path.append('/Library/Python/2.7/site-packages')\n",
    "from scipy.sparse import diags\n",
    "from scipy.linalg import block_diag\n",
    "from scipy.sparse import dia_matrix, bmat\n",
    "import numpy as np\n",
    "import matplotlib.pyplot as plt\n",
    "%matplotlib inline  "
   ]
  },
  {
   "cell_type": "code",
   "execution_count": 2,
   "metadata": {
    "collapsed": false
   },
   "outputs": [],
   "source": [
    "def a(number):\n",
    "    diag = map(np.sqrt,range(1, number))\n",
    "    return diags([diag], [1], shape=(number, number)).toarray()\n",
    "\n",
    "\n",
    "def basis(number, state):\n",
    "    ket = np.zeros(number)\n",
    "    ket[state] = 1\n",
    "    ket.reshape(number, 1)\n",
    "    return ket\n",
    "    \n",
    "def average(operater_list):\n",
    "    return reduce(lambda x, y: np.dot(x, y), operater_list)\n",
    "\n",
    "def sigmaz():\n",
    "    x=[]\n",
    "    for i in range(2):\n",
    "        if i < 1:\n",
    "            x.append(-1)\n",
    "        else:\n",
    "            x.append(1)\n",
    "    return diags([x], [0], shape=(2, 2)).toarray()\n",
    "\n",
    "def sigmax():\n",
    "    x = [1]\n",
    "    return diags([x,x], [1,-1], shape=(2, 2)).toarray()"
   ]
  },
  {
   "cell_type": "code",
   "execution_count": 3,
   "metadata": {
    "collapsed": false
   },
   "outputs": [],
   "source": [
    "def H_qubit(Ec, Ej, N_cutoff, ng, flux, d):\n",
    "    # nondiag elements #\n",
    "    nondiag = -0.5*Ej*np.cos(np.pi*flux)*np.sqrt(1 + (d *np.tan(np.pi*flux))**2)\n",
    "    \n",
    "    # diag elements #\n",
    "    diag = []\n",
    "    for n_charge in range(-N_cutoff, N_cutoff + 1, 1):\n",
    "        diag.append(4*Ec*(n_charge - ng)**2)\n",
    "\n",
    "    # return a sparse matrix #\n",
    "    return diags([nondiag, diag, nondiag], [-1, 0, 1], shape=(2*N_cutoff+1, 2*N_cutoff+1)).toarray()\n",
    "\n",
    "def H_lc(w_lc, N_phonon):\n",
    "    return w_lc * np.dot(a(N_phonon).transpose(), a(N_phonon))"
   ]
  },
  {
   "cell_type": "code",
   "execution_count": 4,
   "metadata": {
    "collapsed": false
   },
   "outputs": [],
   "source": [
    "# qubit - lc hamiltionian in dressed state #\n",
    "def H_qlc(Ec, Ej, N_cutoff, ng, flux, d, w_lc, N_phonon):\n",
    "    # diagnal elements #\n",
    "    diag = []\n",
    "    for j in range(N_phonon):\n",
    "        for i in range(2*N_cutoff + 1):\n",
    "            diag.append(H_qubit(Ec, Ej, N_cutoff, ng, flux, d)[i,i] + H_lc(w_lc, N_phonon)[j,j])\n",
    "    # nondiagnal elements #\n",
    "    nondiag = H_qubit(Ec, Ej, N_cutoff, ng, flux, d)[1,2] \n",
    "    return diags([nondiag, diag, nondiag], [-1, 0, 1], shape=((2*N_cutoff+1)*N_phonon, (2*N_cutoff+1)*N_phonon)).toarray()\n",
    "     \n",
    "def H_int(N_cutoff, g_lc, ng, N_phonon):\n",
    "    int = []\n",
    "    sum_int = []\n",
    "    for n_charge in range(-N_cutoff, N_cutoff + 1, 1):\n",
    "        int.append(g_lc*(n_charge-ng))\n",
    "    for i in range(N_phonon-1):\n",
    "       sum_int.extend(int)\n",
    "    return diags([sum_int, sum_int], [-(2*N_cutoff+1), 2*N_cutoff+1], shape=((2*N_cutoff+1)*N_phonon, (2*N_cutoff+1)*N_phonon)).toarray()\n",
    "\n",
    "# dressed state total hamiltionian #\n",
    "def Hamltionian(Ec, Ej, N_cutoff, ng, flux, d, w_lc, N_phonon, g_lc):\n",
    "    return H_qlc(Ec, Ej, N_cutoff, ng, flux, d, w_lc, N_phonon) + H_int(N_cutoff, g_lc, ng, N_phonon)"
   ]
  },
  {
   "cell_type": "code",
   "execution_count": 5,
   "metadata": {
    "collapsed": false
   },
   "outputs": [
    {
     "name": "stdout",
     "output_type": "stream",
     "text": [
      "1.85818754155\n"
     ]
    }
   ],
   "source": [
    "# diagnal qubit hamiltionian #\n",
    "def diag_Hq(N_qubit,Ec, Ej, N_cutoff, ng, flux, d):\n",
    "    Q_energy = []\n",
    "    Qubit = []\n",
    "    evals, evects = np.linalg.eigh(H_qubit(Ec, Ej, N_cutoff, ng, flux, d))\n",
    "    for i in range(N_qubit):\n",
    "        Q_energy.append(evals[i])\n",
    "    Qubit.append(Q_energy)\n",
    "    Qubit.append(evects.transpose())\n",
    "    U_transform = average([np.linalg.inv(evects),H_qubit(Ec, Ej, N_cutoff, ng, flux, d),evects])[:N_qubit,:N_qubit]\n",
    "    Qubit.append(U_transform)\n",
    "    return Qubit\n",
    "\n",
    "e, s, m = diag_Hq(2, 1, 10, 10, 0.5, 0, 0)\n",
    "print e[1]"
   ]
  },
  {
   "cell_type": "code",
   "execution_count": 6,
   "metadata": {
    "collapsed": false
   },
   "outputs": [],
   "source": [
    "# Define coupling strength of qubit and cavity #\n",
    "def N_(N_charge):\n",
    "    n = []\n",
    "    for i in range(-N_charge, N_charge+1,1):\n",
    "        n.append(i)\n",
    "    return diags([n],[0],shape = (2*N_charge+1, 2*N_charge+1)).toarray()\n",
    "\n",
    "def couple_ng(Ec, Ej, N_cutoff, ng, flux, d, n,m):\n",
    "    couple = []\n",
    "    evals, ekets = np.linalg.eigh(H_qubit(Ec, Ej, N_cutoff, ng, flux, d))\n",
    "    kets = ekets.transpose()\n",
    "    couple.append(abs(average([kets[n].transpose(), N_(5), kets[m]])))   \n",
    "    return couple\n"
   ]
  },
  {
   "cell_type": "code",
   "execution_count": 7,
   "metadata": {
    "collapsed": false
   },
   "outputs": [],
   "source": [
    "def dia_Hqlc(N_qubit, Ec, Ej, N_cutoff, ng, flux, d, w_lc, N_phonon):\n",
    "    diag = []\n",
    "\n",
    "    evals, evects = np.linalg.eigh(H_qubit(Ec, Ej, N_cutoff, ng, flux, d))\n",
    "    kets = evects.transpose()\n",
    "    \n",
    "    # diagnal elements #\n",
    "    for i in range(N_phonon):\n",
    "        for j in range(N_qubit):\n",
    "            diag.append(evals[j] + i*w_lc)\n",
    "    H = diags([diag], [0], shape=(N_qubit*N_phonon, N_qubit*N_phonon)).toarray()\n",
    "    return H"
   ]
  },
  {
   "cell_type": "markdown",
   "metadata": {},
   "source": [
    "# Unitory transformation of H using qubit |g> and |e> two states"
   ]
  },
  {
   "cell_type": "code",
   "execution_count": 8,
   "metadata": {
    "collapsed": false
   },
   "outputs": [
    {
     "data": {
      "text/plain": [
       "array([[-5.7900806 ,  0.        ,  0.5       ,  0.69684355],\n",
       "       [ 0.        ,  1.85818754,  0.69684355,  0.5       ],\n",
       "       [ 0.5       ,  0.69684355, -4.7900806 ,  0.        ],\n",
       "       [ 0.69684355,  0.5       ,  0.        ,  2.85818754]])"
      ]
     },
     "execution_count": 8,
     "metadata": {},
     "output_type": "execute_result"
    }
   ],
   "source": [
    "def dia_H(N_qubit, Ec, Ej, N_cutoff, ng, flux, d, w_lc, N_phonon,g_lc):\n",
    "    Q_energy = []\n",
    "    Q_state = []\n",
    "    Qubit = []\n",
    "    diag = []\n",
    "    couple = np.zeros((N_qubit,N_qubit))\n",
    "    couple_index=[]\n",
    "    c = []\n",
    "    final_c = []\n",
    "    evals, evects = np.linalg.eigh(H_qubit(Ec, Ej, N_cutoff, ng, flux, d))\n",
    "    kets = evects.transpose()\n",
    "    \n",
    "    # diagnal elements #\n",
    "    for i in range(N_phonon):\n",
    "        for j in range(N_qubit):\n",
    "            diag.append(evals[j] + i*w_lc)\n",
    "    H = diags([diag], [0], shape=(N_qubit*N_phonon, N_qubit*N_phonon)).toarray()\n",
    "    \n",
    "    # solve for <i|n|j> #\n",
    "    for i in range(N_qubit):\n",
    "        for j in range(N_qubit):\n",
    "            couple[i,j] = g_lc * abs(average([kets[i].transpose(), N_(N_cutoff), kets[j]]))\n",
    "    \n",
    "    # solve for (a^{+} + a) coupling term #\n",
    "    for i in range(N_phonon):\n",
    "        for j in range(N_phonon):\n",
    "            couple_index.append(average([basis(N_phonon,i).transpose(), a(N_phonon).transpose() + a(N_phonon), basis(N_phonon,j)]))\n",
    "    \n",
    "    # solve for sub block matrix #\n",
    "    for i in couple_index:\n",
    "        c.append(couple*i)\n",
    "    # slice coupling matrix into sublist to concatenate #    \n",
    "    cp = [c[i:i + N_phonon] for i in range(0, len(c), N_phonon)]\n",
    "    # concatenate coupling matrix for row #\n",
    "    for i in range(N_phonon):\n",
    "        final_c.append(reduce(lambda x,y : np.concatenate((x, y),axis = 1),cp[i]))\n",
    "    # concatenate coupling matrix for column #                   \n",
    "    for j in range(N_phonon):\n",
    "        cp_H = reduce(lambda x,y:np.concatenate((x, y),axis = 0),final_c)\n",
    "    \n",
    "    return cp_H+H\n",
    "\n",
    "# dia_H(N_qubit, Ec, Ej, N_cutoff, ng, flux, d, w_lc, N_phonon,g_lc):\n",
    "dia_H(2, 1, 10, 10, 0.5, 0, 1, 1, 2,1)"
   ]
  },
  {
   "cell_type": "code",
   "execution_count": 17,
   "metadata": {
    "collapsed": false
   },
   "outputs": [
    {
     "name": "stdout",
     "output_type": "stream",
     "text": [
      "[[-5.7900806   0.          0.          0.69684355  0.          0.        ]\n",
      " [ 0.          1.85818754  0.69684355  0.          0.          0.        ]\n",
      " [ 0.          0.69684355 -4.7900806   0.          0.          0.9854856 ]\n",
      " [ 0.69684355  0.          0.          2.85818754  0.9854856   0.        ]\n",
      " [ 0.          0.          0.          0.9854856  -3.7900806   0.        ]\n",
      " [ 0.          0.          0.9854856   0.          0.          3.85818754]]\n"
     ]
    }
   ],
   "source": [
    "def dia_disp_H(N_qubit, Ec, Ej, N_cutoff, ng, flux, d, w_lc, N_phonon,g_lc):\n",
    "    Q_energy = []\n",
    "    Q_state = []\n",
    "    Qubit = []\n",
    "    diag = []\n",
    "    couple = np.zeros((N_qubit,N_qubit))\n",
    "    couple_index=[]\n",
    "    c = []\n",
    "    final_c = []\n",
    "    evals, evects = np.linalg.eigh(H_qubit(Ec, Ej, N_cutoff, ng, flux, d))\n",
    "    kets = evects.transpose()\n",
    "    \n",
    "    # diagnal elements #\n",
    "    for i in range(N_phonon):\n",
    "        for j in range(N_qubit):\n",
    "            diag.append(evals[j] + i*w_lc)\n",
    "    H = diags([diag], [0], shape=(N_qubit*N_phonon, N_qubit*N_phonon)).toarray()\n",
    "    \n",
    "    # solve for <i|n|j> #\n",
    "    for i in range(N_qubit):\n",
    "        for j in range(N_qubit):\n",
    "            if i == j:\n",
    "                couple[i,j] = 0\n",
    "            else:\n",
    "                couple[i,j] = g_lc * abs(average([kets[i].transpose(), N_(N_cutoff), kets[j]]))\n",
    "            \n",
    "    \n",
    "    # solve for (a^{+} + a) coupling term #\n",
    "    for i in range(N_phonon):\n",
    "        for j in range(N_phonon):\n",
    "            couple_index.append(average([basis(N_phonon,i).transpose(), a(N_phonon).transpose() + a(N_phonon), basis(N_phonon,j)]))\n",
    "    \n",
    "    # solve for sub block matrix #\n",
    "    for i in couple_index:\n",
    "        c.append(couple*i)\n",
    "    # slice coupling matrix into sublist to concatenate #    \n",
    "    cp = [c[i:i + N_phonon] for i in range(0, len(c), N_phonon)]\n",
    "    # concatenate coupling matrix for row #\n",
    "    for i in range(N_phonon):\n",
    "        final_c.append(reduce(lambda x,y : np.concatenate((x, y),axis = 1),cp[i]))\n",
    "    # concatenate coupling matrix for column #                   \n",
    "    for j in range(N_phonon):\n",
    "        cp_H = reduce(lambda x,y:np.concatenate((x, y),axis = 0),final_c)\n",
    "    \n",
    "    return cp_H+H\n",
    "\n",
    "print dia_disp_H(2, 1, 10, 10, 0.5, 0, 1, 1, 3,1)"
   ]
  },
  {
   "cell_type": "markdown",
   "metadata": {},
   "source": [
    "# Diagnal Qubit Hamiltionian as the \\sigmaz"
   ]
  },
  {
   "cell_type": "code",
   "execution_count": 10,
   "metadata": {
    "collapsed": false
   },
   "outputs": [],
   "source": [
    "def Hq_rot(Ec, Ej, N_cutoff, ng, flux, d, w_lc, N_phonon):\n",
    "    diag = []\n",
    "    \n",
    "    e, s, m = diag_Hq(2 , Ec, Ej, N_cutoff, ng, flux, d)\n",
    "    a=[[1,-1],[1,1]]\n",
    "    qenergy=[e[0],e[1]]\n",
    "    coef = np.linalg.solve(a,qenergy)[1]\n",
    "    elist = [-coef, coef]\n",
    "    \n",
    "    # diagnal elements #\n",
    "    for i in range(N_phonon):\n",
    "        for j in elist:\n",
    "            diag.append(j + i*w_lc)\n",
    "    H = diags([diag], [0], shape=(2*N_phonon, 2*N_phonon)).toarray()\n",
    "    return diag\n",
    "\n",
    "def Hq_z(Ec, Ej, N_cutoff, ng, flux, d):\n",
    "    diag = []\n",
    "    \n",
    "    e, s, m = diag_Hq(2 , Ec, Ej, N_cutoff, ng, flux, d)\n",
    "    a=[[1,-1],[1,1]]\n",
    "    qenergy=[e[0],e[1]]\n",
    "    coef = np.linalg.solve(a,qenergy)[1]\n",
    "    elist = [-coef, coef]\n",
    "    \n",
    "    return elist"
   ]
  },
  {
   "cell_type": "code",
   "execution_count": 11,
   "metadata": {
    "collapsed": false
   },
   "outputs": [
    {
     "data": {
      "text/plain": [
       "-0.17679811561023517"
      ]
     },
     "execution_count": 11,
     "metadata": {},
     "output_type": "execute_result"
    }
   ],
   "source": [
    "def permutation(Ec, Ej, N_cutoff, ng, flux, d, w_lc, g_lc, N_phonon, qlc_state):\n",
    "    couple = couple = np.zeros((2,2))\n",
    "    e, s, m = diag_Hq(2 , Ec, Ej, N_cutoff, ng, flux, d)\n",
    "    couple_index = []\n",
    "    c = []\n",
    "    final_c = []\n",
    "    cp_H = []\n",
    "    result = 0\n",
    "    E_eigen = Hq_rot(Ec, Ej, N_cutoff, ng, flux, d, w_lc, N_phonon)\n",
    "    # solve for <i|n|j> #\n",
    "    for i in range(2):\n",
    "        for j in range(2):\n",
    "            couple[i,j] = g_lc * abs(average([s[i].transpose(), (N_(N_cutoff)-ng), s[j]]))\n",
    "    h_int = couple[0,1]*sigmax()\n",
    "    for i in range(N_phonon):\n",
    "        for j in range(N_phonon):\n",
    "            couple_index.append(average([basis(N_phonon,i).transpose(), a(N_phonon).transpose() + a(N_phonon), basis(N_phonon,j)]))\n",
    "    \n",
    "    # solve for sub block matrix #\n",
    "    for i in couple_index:\n",
    "        c.append(h_int*i)\n",
    "    # slice coupling matrix into sublist to concatenate #    \n",
    "    cp = [c[i:i + N_phonon] for i in range(0, len(c), N_phonon)]\n",
    "    for i in range(N_phonon):\n",
    "        final_c.append(reduce(lambda x,y : np.concatenate((x, y),axis = 1),cp[i]))\n",
    "    # concatenate coupling matrix for column #                   \n",
    "    for j in range(N_phonon):\n",
    "        cp_H = reduce(lambda x,y:np.concatenate((x, y),axis = 0),final_c)\n",
    "        \n",
    "    for i in range(N_phonon*2):\n",
    "        if i == qlc_state:\n",
    "            result = result + 0\n",
    "        else:\n",
    "            result = result + abs(average([basis(2*N_phonon, i),cp_H,basis(2*N_phonon,qlc_state)]))**2 /(E_eigen[qlc_state] - E_eigen[i])\n",
    "    return result\n",
    "permutation(1, 10, 10, 0.5, 0.5, 0.01, 1, 1,3,2)"
   ]
  },
  {
   "cell_type": "code",
   "execution_count": 11,
   "metadata": {
    "collapsed": false
   },
   "outputs": [],
   "source": []
  },
  {
   "cell_type": "code",
   "execution_count": 12,
   "metadata": {
    "collapsed": false
   },
   "outputs": [],
   "source": [
    "def H_rot(Ec, Ej, N_cutoff, ng, flux, d, w_lc, N_phonon,g_lc):\n",
    "    diag = []\n",
    "    couple = np.zeros((2,2))\n",
    "    \n",
    "    e, s, m = diag_Hq(2 , Ec, Ej, N_cutoff, ng, flux, d)\n",
    "    a=[[1,-1],[1,1]]\n",
    "    qenergy=[e[0],e[1]]\n",
    "    coef = np.linalg.solve(a,qenergy)[1]\n",
    "    elist = [-coef, coef]\n",
    "    \n",
    "    # diagnal elements #\n",
    "    for i in range(N_phonon):\n",
    "        for j in elist:\n",
    "            diag.append(j + i*w_lc)\n",
    "    H = diags([diag], [0], shape=(2*N_phonon, 2*N_phonon)).toarray()\n",
    "    \n",
    "    # offdiagnal elements #\n",
    "    # solve for <i|n|j> #\n",
    "    #for i in range(2):\n",
    "    #    for j in range(2):\n",
    "    #        couple[i,j] = g_lc * abs(average([s[i].transpose(), (N_(N_cutoff)-ng), s[j]]))\n",
    "            \n",
    "    #c = [couple[0,0],couple[1,1]]\n",
    "    #c1 = np.linalg.solve(a,c) # c1[0] is sigmaz(b^{+}+b) term, c1[1] is driving term (b^{+}+b) #\n",
    "    \n",
    "    return H"
   ]
  },
  {
   "cell_type": "code",
   "execution_count": 13,
   "metadata": {
    "collapsed": false
   },
   "outputs": [],
   "source": [
    "def new_h(N_qubit,N_phonon,w_lc):\n",
    "    # diagnal elements #\n",
    "    diag = []\n",
    "    for j in range(N_phonon):\n",
    "        for i in range(N_qubit):\n",
    "            diag.append(coef*sigmaz()[i,i] + H_lc(w_lc, N_phonon)[j,j])\n",
    "    # nondiagnal elements #\n",
    "    nondiag = 2 \n",
    "    return diags([nondiag, diag, nondiag], [-1, 0, 1], shape=(N_qubit*N_phonon, N_qubit*N_phonon)).toarray()"
   ]
  },
  {
   "cell_type": "code",
   "execution_count": 14,
   "metadata": {
    "collapsed": false
   },
   "outputs": [
    {
     "name": "stdout",
     "output_type": "stream",
     "text": [
      "0.0710938410304\n"
     ]
    }
   ],
   "source": [
    "def N_(N_charge):\n",
    "    n = []\n",
    "    for i in range(-N_charge, N_charge+1,1):\n",
    "        n.append(i)\n",
    "    return diags([n],[0],shape = (2*N_charge+1, 2*N_charge+1)).toarray()\n",
    "\n",
    "def g_eff(N_qubit,Ec, Ej, N_cutoff, ng, flux, d):\n",
    "    woqu = []\n",
    "    e,s,m = diag_Hq(N_qubit,Ec, Ej, N_cutoff, ng, flux, d)\n",
    "    m_i = np.linalg.inv(s)\n",
    "    coeffience = np.dot(s,s)[:N_qubit,:N_qubit]\n",
    "    for n in range(-N_cutoff,N_cutoff+1,1):\n",
    "        woqu.append((n-ng))\n",
    "        qiuhe = np.sum(woqu)\n",
    "    xishu = coeffience*qiuhe\n",
    "    return abs(xishu[1,0])\n",
    "\n",
    "print g_eff(2,1.7,11.65,3,0.5,0,0.05)"
   ]
  },
  {
   "cell_type": "code",
   "execution_count": 15,
   "metadata": {
    "collapsed": false
   },
   "outputs": [],
   "source": [
    "def E_total(i, Ec, Ej, N_cutoff, ng, flux, d, w_lc, g_lc, N_phonon):\n",
    "    e = Hq_rot(Ec, Ej, N_cutoff, ng, flux, d, w_lc, N_phonon)[i]\n",
    "    et = e + permutation(Ec, Ej, N_cutoff, ng, flux, d, w_lc, g_lc, N_phonon, i)\n",
    "    return et"
   ]
  },
  {
   "cell_type": "code",
   "execution_count": 16,
   "metadata": {
    "collapsed": false
   },
   "outputs": [
    {
     "data": {
      "image/png": "[encoded data removed]",
      "text/plain": [
       "<matplotlib.figure.Figure at 0x10e980610>"
      ]
     },
     "metadata": {},
     "output_type": "display_data"
    }
   ],
   "source": [
    "fluxlist = np.linspace(-1, 1, 200)\n",
    "\n",
    "x =[]\n",
    "y = []\n",
    "for change in fluxlist:\n",
    "    #x.append(Hq_rot(1, 10, 10, 0.5, change, 0.05, 1,3)[3] + permutation(1, 10, 10, 0.5, change, 0.05, 1, 0.08, 3, 3))\n",
    "    x.append(E_total(3, 1.3, 12.7, 10, 0.5, change, 0.05, 4, 0.3, 3)-E_total(1, 1.3, 12.7, 10, 0.5, change, 0.05, 4, 0.3, 3)) # E_total(i, Ec, Ej, N_cutoff, ng, flux, d, w_lc, g_lc, N_phonon)\n",
    "    y.append(Hq_z(1.3, 12.7, 10, 0.5, change, 0.05)[1]-Hq_z(1.3, 12.7, 10, 0.5, change, 0.05)[0])\n",
    "\n",
    "\n",
    "plt.plot(fluxlist , x)\n",
    "plt.plot(fluxlist , y)\n",
    "\n",
    "plt.xlabel('flux')# make axis labels\n",
    "plt.ylabel('E')\n",
    "plt.xlim(-1, 1)# set axis limits\n",
    "#plt.ylim(1, 2.5)# set y axis\n",
    "plt.show()"
   ]
  },
  {
   "cell_type": "code",
   "execution_count": 16,
   "metadata": {
    "collapsed": false
   },
   "outputs": [],
   "source": []
  }
 ],
 "metadata": {
  "kernelspec": {
   "display_name": "Python 2",
   "language": "python",
   "name": "python2"
  },
  "language_info": {
   "codemirror_mode": {
    "name": "ipython",
    "version": 2
   },
   "file_extension": ".py",
   "mimetype": "text/x-python",
   "name": "python",
   "nbconvert_exporter": "python",
   "pygments_lexer": "ipython2",
   "version": "2.7.9"
  }
 },
 "nbformat": 4,
 "nbformat_minor": 0
}
